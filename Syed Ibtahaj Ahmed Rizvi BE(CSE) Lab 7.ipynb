{
 "cells": [
  {
   "cell_type": "markdown",
   "metadata": {},
   "source": [
    "### Exercise\n",
    "\n",
    "Question 1: Using For Loops, write a Python code that \n",
    "\t    generates the following:\n",
    "\t(i) Sequence of first 20 even numbers\n",
    "\t(ii) Sequence of first 20 odd numbers"
   ]
  },
  {
   "cell_type": "code",
   "execution_count": 18,
   "metadata": {},
   "outputs": [
    {
     "name": "stdout",
     "output_type": "stream",
     "text": [
      "0\n",
      "2\n",
      "4\n",
      "6\n",
      "8\n",
      "10\n",
      "12\n",
      "14\n",
      "16\n",
      "18\n",
      "20\n",
      "22\n",
      "24\n",
      "26\n",
      "28\n",
      "30\n",
      "32\n",
      "34\n",
      "36\n",
      "38\n",
      "40\n",
      "42\n",
      "44\n",
      "46\n",
      "48\n"
     ]
    }
   ],
   "source": [
    "for i in range(0,50,2):\n",
    "    print(i)"
   ]
  },
  {
   "cell_type": "code",
   "execution_count": 19,
   "metadata": {},
   "outputs": [
    {
     "name": "stdout",
     "output_type": "stream",
     "text": [
      "1\n",
      "3\n",
      "5\n",
      "7\n",
      "9\n",
      "11\n",
      "13\n",
      "15\n",
      "17\n",
      "19\n",
      "21\n",
      "23\n",
      "25\n",
      "27\n",
      "29\n",
      "31\n",
      "33\n",
      "35\n",
      "37\n",
      "39\n",
      "41\n",
      "43\n",
      "45\n",
      "47\n",
      "49\n"
     ]
    }
   ],
   "source": [
    "for i in range(1,50,2):\n",
    "    print(i)"
   ]
  },
  {
   "cell_type": "markdown",
   "metadata": {},
   "source": [
    "Question 2: Take a look at the following list:\n",
    "\n",
    "numrange = [20,34,12,45,87,4,2,67,43,98,45,21,42,56,43,23,89,76,91,28,31,9,23]\n",
    "\n",
    "Using For loops, distribute the numbers from the above list into the following:\n",
    "\t(i) List of numbers less than 50\n",
    "\t(ii)List of numbers greater than 50\n",
    "Hint: Take a look at integer/float separator example\n"
   ]
  },
  {
   "cell_type": "code",
   "execution_count": 16,
   "metadata": {},
   "outputs": [
    {
     "name": "stdout",
     "output_type": "stream",
     "text": [
      "20   is Less Than 50\n",
      "34   is Less Than 50\n",
      "12   is Less Than 50\n",
      "45   is Less Than 50\n",
      "87   is Greater Than 50\n",
      "4   is Less Than 50\n",
      "2   is Less Than 50\n",
      "67   is Greater Than 50\n",
      "43   is Less Than 50\n",
      "98   is Greater Than 50\n",
      "45   is Less Than 50\n",
      "21   is Less Than 50\n",
      "42   is Less Than 50\n",
      "56   is Greater Than 50\n",
      "43   is Less Than 50\n",
      "23   is Less Than 50\n",
      "89   is Greater Than 50\n",
      "76   is Greater Than 50\n",
      "91   is Greater Than 50\n",
      "28   is Less Than 50\n",
      "31   is Less Than 50\n",
      "9   is Less Than 50\n",
      "23   is Less Than 50\n"
     ]
    }
   ],
   "source": [
    "numrange = [20,34,12,45,87,4,2,67,43,98,45,21,42,56,43,23,89,76,91,28,31,9,23]\n",
    "for i in numrange:\n",
    "    if(i > 50):\n",
    "        print(i,\"  is Greater Than 50\")\n",
    "    else:\n",
    "        print(i,\"  is Less Than 50\")"
   ]
  },
  {
   "cell_type": "markdown",
   "metadata": {},
   "source": [
    "Question 3: \n",
    "Using for loops, calculate the sum of first 20 integers."
   ]
  },
  {
   "cell_type": "code",
   "execution_count": 21,
   "metadata": {},
   "outputs": [
    {
     "name": "stdout",
     "output_type": "stream",
     "text": [
      "0\n",
      "1\n",
      "3\n",
      "6\n",
      "10\n",
      "15\n",
      "21\n",
      "28\n",
      "36\n",
      "45\n",
      "55\n",
      "66\n",
      "78\n",
      "91\n",
      "105\n",
      "120\n",
      "136\n",
      "153\n",
      "171\n",
      "190\n",
      "210\n",
      "Sum Of First Twenty Integars : 210\n"
     ]
    }
   ],
   "source": [
    "sum = 0\n",
    "for i in range(0,21):\n",
    "    sum = sum + i\n",
    "    print(sum)\n",
    "print(\"Sum Of First Twenty Integars :\",sum)"
   ]
  }
 ],
 "metadata": {
  "kernelspec": {
   "display_name": "Python 3",
   "language": "python",
   "name": "python3"
  },
  "language_info": {
   "codemirror_mode": {
    "name": "ipython",
    "version": 3
   },
   "file_extension": ".py",
   "mimetype": "text/x-python",
   "name": "python",
   "nbconvert_exporter": "python",
   "pygments_lexer": "ipython3",
   "version": "3.6.4"
  }
 },
 "nbformat": 4,
 "nbformat_minor": 2
}
