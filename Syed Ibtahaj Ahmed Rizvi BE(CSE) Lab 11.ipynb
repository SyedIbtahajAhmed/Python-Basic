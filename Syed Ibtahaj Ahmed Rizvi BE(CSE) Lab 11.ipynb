{
 "cells": [
  {
   "cell_type": "markdown",
   "metadata": {},
   "source": [
    "Q1. Use math module to determine the following: \n",
    "\n",
    "T = $ 2*pi*sqrt(l/g) $ ; l your height in meters \n"
   ]
  },
  {
   "cell_type": "code",
   "execution_count": null,
   "metadata": {},
   "outputs": [],
   "source": [
    "import math\n",
    "#=======================\n",
    "#=======================\n",
    "l = float(input(\"Enter Your Height In Meters :\"))\n",
    "g = 9.8\n",
    "pi = math.pi\n",
    "sq = math.sqrt(l/g)\n",
    "T = 2*pi*sq\n",
    "#=======================\n",
    "#=======================\n",
    "print(T)"
   ]
  },
  {
   "cell_type": "markdown",
   "metadata": {},
   "source": [
    "T =$ f x d sin(theta) $ F = 100N, d = last digit of your roll no, (theta)=45deg \n"
   ]
  },
  {
   "cell_type": "code",
   "execution_count": null,
   "metadata": {},
   "outputs": [],
   "source": [
    "import math\n",
    "#=======================\n",
    "#=======================\n",
    "F = 100\n",
    "d = 16\n",
    "theta = 45\n",
    "con1 = math.radians(45)\n",
    "ang = math.sin(con1)\n",
    "#=======================\n",
    "#=======================\n",
    "T = F*d*ang\n",
    "print(T)"
   ]
  },
  {
   "cell_type": "markdown",
   "metadata": {},
   "source": [
    "Prove cos^2(theta) + sin^2(theta) = 1\ttheta = 0 ---> 45 deg\n"
   ]
  },
  {
   "cell_type": "code",
   "execution_count": null,
   "metadata": {},
   "outputs": [],
   "source": [
    "import math\n",
    "#=======================\n",
    "#=======================\n",
    "theta = 45\n",
    "con1 = math.radians(45)\n",
    "sin = math.sin(con1)\n",
    "cos = math.cos(con1)\n",
    "#=======================\n",
    "#=======================\n",
    "print(\"Proof :\")\n",
    "print(\"cos^2(theta) + sin^2(theta) =\",cos**2 + sin**2 )"
   ]
  },
  {
   "cell_type": "markdown",
   "metadata": {},
   "source": [
    "When @ = 30 deg find cos(@), sin(@), tan(@)\n"
   ]
  },
  {
   "cell_type": "code",
   "execution_count": null,
   "metadata": {},
   "outputs": [],
   "source": [
    "import math\n",
    "#=======================\n",
    "#=======================\n",
    "theta = 30\n",
    "con = math.radians(theta)\n",
    "con1 = math.cos(con)\n",
    "con2 = math.sin(con)\n",
    "con3 = math.tan(con)\n",
    "#=======================\n",
    "#=======================\n",
    "print(\"\\n\\nCos(30) =\",con1,\"\\n\\nSin(30) =\",con2,\"\\n\\nTan(30) =\",con3)"
   ]
  },
  {
   "cell_type": "markdown",
   "metadata": {},
   "source": [
    "Q2. Using 'randint' function, generate 10 terms ranging between 0 and 20.\n"
   ]
  },
  {
   "cell_type": "code",
   "execution_count": null,
   "metadata": {},
   "outputs": [],
   "source": [
    "import random\n",
    "#====================================================================================\n",
    "#====================================================================================\n",
    "start = int(input(\"Enter Starting Number :\"))\n",
    "stop = int(input(\"Enter Ending Number :\"))\n",
    "terms = int(input(\"Enter How Many Temrs You Want To Generate Between The Range :\"))\n",
    "#====================================================================================\n",
    "#====================================================================================\n",
    "for i in range(0,terms):\n",
    "    print(random.randint(start,stop))"
   ]
  },
  {
   "cell_type": "markdown",
   "metadata": {},
   "source": [
    "Q3: Using random module, create a list of 10 random float values having a value greater than 5 and less than 10."
   ]
  },
  {
   "cell_type": "code",
   "execution_count": null,
   "metadata": {},
   "outputs": [],
   "source": [
    "import random\n",
    "#====================================================================================\n",
    "#====================================================================================\n",
    "start = int(input(\"Enter Starting Number :\"))\n",
    "stop = int(input(\"Enter Ending Number :\"))\n",
    "terms = int(input(\"Enter How Many Temrs You Want To Generate Between The Range :\"))\n",
    "#====================================================================================\n",
    "#====================================================================================\n",
    "for i in range(0,terms):\n",
    "    print(random.uniform(start,stop))"
   ]
  }
 ],
 "metadata": {
  "kernelspec": {
   "display_name": "Python 3",
   "language": "python",
   "name": "python3"
  },
  "language_info": {
   "codemirror_mode": {
    "name": "ipython",
    "version": 3
   },
   "file_extension": ".py",
   "mimetype": "text/x-python",
   "name": "python",
   "nbconvert_exporter": "python",
   "pygments_lexer": "ipython3",
   "version": "3.6.5"
  }
 },
 "nbformat": 4,
 "nbformat_minor": 2
}
