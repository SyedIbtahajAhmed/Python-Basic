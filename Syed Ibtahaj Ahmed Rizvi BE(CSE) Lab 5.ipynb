{
 "cells": [
  {
   "cell_type": "markdown",
   "metadata": {
    "colab_type": "text",
    "id": "qPi1cxlOv1AO"
   },
   "source": [
    "# EXERCISE\n",
    "\n"
   ]
  },
  {
   "cell_type": "markdown",
   "metadata": {
    "colab_type": "text",
    "id": "XhlbIVrHv8rz"
   },
   "source": [
    "Q1. Write a python program for BMI calculator. If the BMI of the person is greater than 25, the program should display “You are overweight”. If the BMI is less than 25, the program should display “Your weight is fine”"
   ]
  },
  {
   "cell_type": "code",
   "execution_count": 14,
   "metadata": {
    "colab": {},
    "colab_type": "code",
    "id": "ROyPPxjjvXT8"
   },
   "outputs": [
    {
     "name": "stdout",
     "output_type": "stream",
     "text": [
      "Enter Your Weight in Kilograms :80\n",
      "Enter Your Height in Meters :2\n",
      "\n",
      "* Your BMI is : 20.0 kg/m^2\n",
      "\"Your weight if fine\"\n"
     ]
    }
   ],
   "source": [
    "weight = float(input(\"Enter Your Weight in Kilograms :\"))\n",
    "height = float(input(\"Enter Your Height in Meters :\"))\n",
    "bmi = weight/height**2\n",
    "if(bmi>25):\n",
    "    print(\"\\n* Your BMI is :\",bmi,\"kg/m^2\")\n",
    "    print('\" You are overweight\"')\n",
    "else:\n",
    "    print(\"\\n* Your BMI is :\",bmi,\"kg/m^2\")\n",
    "    print('\"Your weight if fine\"')"
   ]
  },
  {
   "cell_type": "markdown",
   "metadata": {
    "colab_type": "text",
    "id": "VLiNOI6-wASC"
   },
   "source": [
    "\n",
    "Q2. Write a program that takes numeric input from the user. The program should display the following information about the number.\n",
    "* \tOdd/Even\n",
    "* \tPositive/Negative\n",
    "* \tInteger/Float\n",
    "* \tUse if-elif statements in your program\n"
   ]
  },
  {
   "cell_type": "code",
   "execution_count": 15,
   "metadata": {
    "colab": {},
    "colab_type": "code",
    "id": "GCTzWQmYwIUG"
   },
   "outputs": [
    {
     "name": "stdout",
     "output_type": "stream",
     "text": [
      "Enter Any Number78\n",
      "\n",
      "* Number Entered Is Even\n",
      "\n",
      "* Number Entered Is Positive\n",
      "\n",
      "* Numbee Entered Type is Integar\n"
     ]
    }
   ],
   "source": [
    "num = float(input(\"Enter Any Number\"))\n",
    "if(num%2==0):\n",
    "    print(\"\\n* Number Entered Is Even\")\n",
    "elif(num%2<=2):\n",
    "    print(\"\\n* Neither Even Nor Odd\")\n",
    "else:\n",
    "    print(\"\\n* Number Is Odd\")\n",
    "if(num>0):\n",
    "    print(\"\\n* Number Entered Is Positive\")\n",
    "else:\n",
    "    print(\"\\n* Number Entered Is Negative\")\n",
    "if(num%1==0):\n",
    "    print(\"\\n* Numbee Entered Type is Integar\")\n",
    "else:\n",
    "    print(\"\\n* Number Entered Type Is Float\")"
   ]
  },
  {
   "cell_type": "markdown",
   "metadata": {
    "colab_type": "text",
    "id": "byJU-mZJwJKt"
   },
   "source": [
    "Q3. Write a program that takes two numbers from the user and Displays the greater number in the output.\n"
   ]
  },
  {
   "cell_type": "code",
   "execution_count": 16,
   "metadata": {
    "colab": {},
    "colab_type": "code",
    "id": "2kUgzVs4wLW-"
   },
   "outputs": [
    {
     "name": "stdout",
     "output_type": "stream",
     "text": [
      "Enter First Number78978\n",
      "Enter Second Number156456464\n",
      "\n",
      "\n",
      "* Greater Number Is : 156456464.0\n"
     ]
    }
   ],
   "source": [
    "a = float(input(\"Enter First Number\"))\n",
    "b = float(input(\"Enter Second Number\"))\n",
    "if(a>b):\n",
    "    print(\"\\n\\n* Greater Number Is :\",a)\n",
    "elif(b>a):\n",
    "    print(\"\\n\\n* Greater Number Is :\",b)"
   ]
  },
  {
   "cell_type": "markdown",
   "metadata": {
    "colab_type": "text",
    "id": "IZfQ1ye_wL7O"
   },
   "source": [
    "Q4. Create password protection program. If the user enters a wrong password, the program should end. Otherwise, it should print Welcome statement for the user.\n"
   ]
  },
  {
   "cell_type": "code",
   "execution_count": 17,
   "metadata": {
    "colab": {},
    "colab_type": "code",
    "id": "62WncnEywNVH"
   },
   "outputs": [
    {
     "name": "stdout",
     "output_type": "stream",
     "text": [
      "Enter Password Here :123546\n",
      "INVALID PASSWORD!\n"
     ]
    }
   ],
   "source": [
    "pas = float(input(\"Enter Password Here :\"))\n",
    "if(pas == 123456):\n",
    "    print(\"\\nWELCOME!\")\n",
    "else:\n",
    "    print(\"INVALID PASSWORD!\")"
   ]
  }
 ],
 "metadata": {
  "colab": {
   "collapsed_sections": [],
   "name": "CF Lab 5.ipynb",
   "provenance": [],
   "version": "0.3.2"
  },
  "kernelspec": {
   "display_name": "Python 3",
   "language": "python",
   "name": "python3"
  },
  "language_info": {
   "codemirror_mode": {
    "name": "ipython",
    "version": 3
   },
   "file_extension": ".py",
   "mimetype": "text/x-python",
   "name": "python",
   "nbconvert_exporter": "python",
   "pygments_lexer": "ipython3",
   "version": "3.6.1"
  }
 },
 "nbformat": 4,
 "nbformat_minor": 1
}
