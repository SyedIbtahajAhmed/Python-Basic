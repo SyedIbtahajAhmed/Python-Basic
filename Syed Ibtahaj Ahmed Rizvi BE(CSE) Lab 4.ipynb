{
 "cells": [
  {
   "cell_type": "markdown",
   "metadata": {},
   "source": [
    "Question 1: Write a program that asks the user to enter a number and displays its table (up to 10) by making use of while loop. "
   ]
  },
  {
   "cell_type": "code",
   "execution_count": null,
   "metadata": {},
   "outputs": [],
   "source": [
    "a = 1\n",
    "num = int(input(\"Please Enter Any Number\"))\n",
    "while(a<=10):\n",
    "    print(num,\"*\",a,\"=\",num*a)\n",
    "    a+=1"
   ]
  },
  {
   "cell_type": "markdown",
   "metadata": {},
   "source": [
    "Question 2: Write a Python code to run an infinite loop."
   ]
  },
  {
   "cell_type": "code",
   "execution_count": null,
   "metadata": {},
   "outputs": [],
   "source": [
    "print(\"An Infinite Loop\")\n",
    "a = float(input(\"Enter Any Number\"))\n",
    "while(a<=10):\n",
    "    print(a)"
   ]
  },
  {
   "cell_type": "markdown",
   "metadata": {},
   "source": [
    "Question 3: Write a Python code that asks the user for mathematical operation i.e. Addition, Subtraction or Multiplication. The user should be able to enter numeric values and generate output accordingly. The program should end only when the user wants to quit."
   ]
  },
  {
   "cell_type": "code",
   "execution_count": null,
   "metadata": {},
   "outputs": [],
   "source": [
    "num1 = int(input(\"Enter First Number\"))\n",
    "num2 = int(input(\"Enter Second Number\"))\n",
    "opt = str(input(\"a = Addition, s = Subtraction, m = Multiplication, d = Division\"))\n",
    "goagain = 0\n",
    "goAgain = 1\n",
    "while goAgain == 1:\n",
    "    if(opt == \"a\"):\n",
    "        print('\\nYou Choose \"\"+\"\"\\n')\n",
    "        print(num1,\"+\",num2,\"=\",num1+num2)\n",
    "        goagain = str(input(\"Press 1 for again input operation and Q for Quit\"))\n",
    "        if(goagain == \"Q\"):\n",
    "            print(\"THANK YOU!\")\n",
    "        else:\n",
    "            opt = str(input(\"a = Addition, s = Subtraction, m = Multiplication, d = Division\"))\n",
    "        \n",
    "    elif(opt == \"s\"):\n",
    "        print('\\nYou Choose \"\"-\"\"\\n')\n",
    "        print(num1,\"-\",num2,\"=\",num1-num2)\n",
    "        goagain = str(input(\"Press 1 for again input operation and Q for Quit\"))\n",
    "        if(goagain == \"Q\"):\n",
    "            print(\"THANK YOU!\")\n",
    "        else:\n",
    "            opt = str(input(\"a = Addition, s = Subtraction, m = Multiplication, d = Division\"))\n",
    "\n",
    "    elif(opt == \"m\"):\n",
    "        print('\\nYou Choose \"\"*\"\"\\n')\n",
    "        print(num1,\"*\",num2,\"=\",num1*num2)\n",
    "        goagain = str(input(\"Press 1 for again input operation and Q for Quit\"))\n",
    "        if(goagain == \"Q\"):\n",
    "            print(\"THANK YOU!\")\n",
    "        else:\n",
    "            opt = str(input(\"a = Addition, s = Subtraction, m = Multiplication, d = Division\"))\n",
    "\n",
    "    elif(opt == \"d\"):\n",
    "        print('\\nYou Choose \"\"/\"\"\\n')\n",
    "        print(num1,\"/\",num2,\"=\",num1/num2)\n",
    "        goagain = str(input(\"Press 1 for again input operation and Q for Quit\"))\n",
    "        if(goagain == \"Q\"):\n",
    "            print(\"THANK YOU!\")\n",
    "        else:\n",
    "            opt = str(input(\"a = Addition, s = Subtraction, m = Multiplication, d = Division\"))\n",
    "        \n",
    "    else:\n",
    "        print(\"INVALID INPUT\")\n",
    "        goagain = str(input(\"Press 1 for again input operation and Q for Quit\"))\n",
    "        opt = str(input(\"a = Addition, s = Subtraction, m = Multiplication, d = Division\"))\n",
    "    if(goagain == \"q\"):\n",
    "        print(\"THANK YOU!\")"
   ]
  },
  {
   "cell_type": "markdown",
   "metadata": {},
   "source": [
    "Question 4: Write a python program to generate a triangular pattern using while loop. You can use any character or symbol of your choice. "
   ]
  },
  {
   "cell_type": "code",
   "execution_count": null,
   "metadata": {},
   "outputs": [],
   "source": [
    "b = str(input(\"Please Enter Any Character\"))\n",
    "a = 0\n",
    "while(a<=10):\n",
    "    print(b*a)\n",
    "    a+=1"
   ]
  }
 ],
 "metadata": {
  "kernelspec": {
   "display_name": "Python 3",
   "language": "python",
   "name": "python3"
  },
  "language_info": {
   "codemirror_mode": {
    "name": "ipython",
    "version": 3
   },
   "file_extension": ".py",
   "mimetype": "text/x-python",
   "name": "python",
   "nbconvert_exporter": "python",
   "pygments_lexer": "ipython3",
   "version": "3.6.5"
  }
 },
 "nbformat": 4,
 "nbformat_minor": 2
}
