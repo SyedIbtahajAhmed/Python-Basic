{
 "cells": [
  {
   "cell_type": "markdown",
   "metadata": {
    "colab_type": "text",
    "id": "OcU5mMMWeRHN"
   },
   "source": [
    "# Lab Exercise"
   ]
  },
  {
   "cell_type": "markdown",
   "metadata": {
    "colab_type": "text",
    "id": "kVvYoCmOd3AW"
   },
   "source": [
    "1.\tMake a program for pressure unit conversion. The program should take the input in PSI and convert the value to bar and display the output.\n",
    "Hint: 1 bar = 14.6 Psi\n"
   ]
  },
  {
   "cell_type": "code",
   "execution_count": null,
   "metadata": {
    "colab": {},
    "colab_type": "code",
    "id": "GbCViDdAd8Bc"
   },
   "outputs": [],
   "source": [
    "print(\"** Pressure Unit Conversion **\")\n",
    "psi = float(input(\"Please Enter Pressure In PSI\"))\n",
    "bar = 14.6 * psi\n",
    "print(\"\\nPressure : \",bar,\"bar\")"
   ]
  },
  {
   "cell_type": "markdown",
   "metadata": {
    "colab_type": "text",
    "id": "8y118TLsd808"
   },
   "source": [
    "\n",
    "2.\tA BMI Calculator is used to calculate health index of a human body. It uses body weight and height to determine the BMI. Write a python program that takes weight and height as input and displays the calculated BMI as output. \n",
    "\n",
    "Hint: BMI = weight (in kgs) / height 2 (in meters)\n"
   ]
  },
  {
   "cell_type": "code",
   "execution_count": null,
   "metadata": {
    "colab": {},
    "colab_type": "code",
    "id": "-Xb3tLSjd_hm"
   },
   "outputs": [],
   "source": [
    "print(\"Body Mass Index(BMI) Calculator\")\n",
    "w = float(input(\"Please Enter Your Weight\"))\n",
    "h = float(input(\"Please Enter Your Height\"))\n",
    "bmi = w/h**2\n",
    "print(\"\\nCalculated BMI =\",bmi)"
   ]
  },
  {
   "cell_type": "markdown",
   "metadata": {
    "colab_type": "text",
    "id": "tLqH494weADy"
   },
   "source": [
    "3.\tWrite a program that takes a string input. Display the first, third and the last character in the output. Also, program should return the length of the string.\n"
   ]
  },
  {
   "cell_type": "code",
   "execution_count": null,
   "metadata": {
    "colab": {},
    "colab_type": "code",
    "id": "WcE_myZDeCvl"
   },
   "outputs": [],
   "source": [
    "var = str(input(\"Please Enter Your University Name\"))\n",
    "print(\"\\n\\n* First Character: \",var[1],\"\\n\\n* Second Character:\",var[2],\"\\n\\n* Third Character: \",var[-1])"
   ]
  },
  {
   "cell_type": "markdown",
   "metadata": {
    "colab_type": "text",
    "id": "sY44k1OBeDMC"
   },
   "source": [
    "4.\tWrite a program that takes numerical input from the user. Convert the values into string and then display the output and its type.  \n",
    "\n"
   ]
  },
  {
   "cell_type": "code",
   "execution_count": null,
   "metadata": {
    "colab": {},
    "colab_type": "code",
    "id": "huCH1BnAeFA8"
   },
   "outputs": [],
   "source": [
    "var1 = float(input(\"Please Enter Any Number\"))\n",
    "print(\"\\n\\n- Input Number's Data Type Is:\",type(var1))\n",
    "var2 = str(var1)\n",
    "print(\"\\n- Your Number Is :\",var1,\"\\n\\n- Changed Data Type Is:\",type(var2))"
   ]
  },
  {
   "cell_type": "markdown",
   "metadata": {
    "colab_type": "text",
    "id": "knldm-AOeFfq"
   },
   "source": [
    "5.\tWrite a program that takes a string input, multiplies it with an integer and generates an output. \n"
   ]
  },
  {
   "cell_type": "code",
   "execution_count": null,
   "metadata": {
    "colab": {},
    "colab_type": "code",
    "id": "6DKBQT_feIAJ"
   },
   "outputs": [],
   "source": [
    "stri1 = str(input(\"Please Enter Your Message\"))\n",
    "print(\"\\n\",stri1*5)"
   ]
  },
  {
   "cell_type": "markdown",
   "metadata": {
    "colab_type": "text",
    "id": "oKeVPuGaeIl9"
   },
   "source": [
    "\n",
    "6.\tA Teacher prepares a result list of ten students. He wants to display the student name and total marks in a single line for each student.\n",
    "Write a python code that takes input for student name, student marks (out of 500) and displays the percentage as output. For example, here is how the output may look like:\n",
    "\n",
    "Student 1,  84%\n",
    "Student 2,  89% … and so on.."
   ]
  },
  {
   "cell_type": "code",
   "execution_count": 1,
   "metadata": {
    "colab": {},
    "colab_type": "code",
    "id": "Z27dhMEveJPL"
   },
   "outputs": [
    {
     "name": "stdout",
     "output_type": "stream",
     "text": [
      "Please Enter Student Namesyed\n",
      "Please Enter Student's Marks Out Of 500425\n",
      "Please Enter Student Nameibtahaj\n",
      "Please Enter Student's Marks Out Of 500425\n",
      "Please Enter Student Namesafas\n",
      "Please Enter Student's Marks Out Of 500456\n",
      "Please Enter Student NameADDASD\n",
      "Please Enter Student's Marks Out Of 500456\n",
      "Please Enter Student NameDSADAD\n",
      "Please Enter Student's Marks Out Of 500546\n",
      "Please Enter Student NameSADAD\n",
      "Please Enter Student's Marks Out Of 50046\n",
      "Please Enter Student NameASDADD\n",
      "Please Enter Student's Marks Out Of 500246\n",
      "Please Enter Student NameASDADAS\n",
      "Please Enter Student's Marks Out Of 500464\n",
      "Please Enter Student NameASDDAD\n",
      "Please Enter Student's Marks Out Of 500364\n",
      "Please Enter Student NameASDHJAD\n",
      "Please Enter Student's Marks Out Of 500412\n",
      "S. NO.      NAMES                          Marks Out Of 500                     Percentage\n",
      " 1.         syed                           425.0                                   85.0\n",
      " 2.         ibtahaj                           425.0                                   85.0\n",
      " 3.         safas                           456.0                                   91.2\n",
      " 4.         ADDASD                           456.0                                   91.2\n",
      " 5.         DSADAD                           546.0                                   109.2\n",
      " 6.         SADAD                           46.0                                   9.2\n",
      " 7.         ASDADD                           246.0                                   49.2\n",
      " 8.         ASDADAS                           464.0                                   92.80000000000001\n",
      " 9.         ASDDAD                           364.0                                   72.8\n",
      " 10.         ASDHJAD                           412.0                                   82.39999999999999\n"
     ]
    }
   ],
   "source": [
    "nam1 = str(input(\"Please Enter Student Name\"))\n",
    "mar1 = float(input(\"Please Enter Student's Marks Out Of 500\"))\n",
    "per1 = mar1/500*100\n",
    "nam2 = str(input(\"Please Enter Student Name\"))\n",
    "mar2 = float(input(\"Please Enter Student's Marks Out Of 500\"))\n",
    "per2 = mar2/500*100\n",
    "nam3 = str(input(\"Please Enter Student Name\"))\n",
    "mar3 = float(input(\"Please Enter Student's Marks Out Of 500\"))\n",
    "per3 = mar3/500*100\n",
    "nam4 = str(input(\"Please Enter Student Name\"))\n",
    "mar4 = float(input(\"Please Enter Student's Marks Out Of 500\"))\n",
    "per4 = mar4/500*100\n",
    "nam5 = str(input(\"Please Enter Student Name\"))\n",
    "mar5 = float(input(\"Please Enter Student's Marks Out Of 500\"))\n",
    "per5 = mar5/500*100\n",
    "nam6 = str(input(\"Please Enter Student Name\"))\n",
    "mar6 = float(input(\"Please Enter Student's Marks Out Of 500\"))\n",
    "per6 = mar6/500*100\n",
    "nam7 = str(input(\"Please Enter Student Name\"))\n",
    "mar7 = float(input(\"Please Enter Student's Marks Out Of 500\"))\n",
    "per7 = mar7/500*100\n",
    "nam8 = str(input(\"Please Enter Student Name\"))\n",
    "mar8 = float(input(\"Please Enter Student's Marks Out Of 500\"))\n",
    "per8 = mar8/500*100\n",
    "nam9 = str(input(\"Please Enter Student Name\"))\n",
    "mar9 = float(input(\"Please Enter Student's Marks Out Of 500\"))\n",
    "per9 = mar9/500*100\n",
    "nam10 = str(input(\"Please Enter Student Name\"))\n",
    "mar10 = float(input(\"Please Enter Student's Marks Out Of 500\"))\n",
    "per10 = mar10/500*100\n",
    "print(\"S. NO.\",\"     NAMES\",\"                         Marks Out Of 500\",\"                    Percentage\")\n",
    "print(\" 1.  \",\"     \",nam1,\"                         \",mar1,\"                                 \",per1)\n",
    "print(\" 2.  \",\"     \",nam2,\"                         \",mar2,\"                                 \",per2)\n",
    "print(\" 3.  \",\"     \",nam3,\"                         \",mar3,\"                                 \",per3)\n",
    "print(\" 4.  \",\"     \",nam4,\"                         \",mar4,\"                                 \",per4)\n",
    "print(\" 5.  \",\"     \",nam5,\"                         \",mar5,\"                                 \",per5)\n",
    "print(\" 6.  \",\"     \",nam6,\"                         \",mar6,\"                                 \",per6)\n",
    "print(\" 7.  \",\"     \",nam7,\"                         \",mar7,\"                                 \",per7)\n",
    "print(\" 8.  \",\"     \",nam8,\"                         \",mar8,\"                                 \",per8)\n",
    "print(\" 9.  \",\"     \",nam9,\"                         \",mar9,\"                                 \",per9)\n",
    "print(\" 10.  \",\"    \",nam10,\"                        \",mar10,\"                                \",per10)"
   ]
  }
 ],
 "metadata": {
  "colab": {
   "collapsed_sections": [],
   "name": "CF Lab 3 - Variables and User Inputs.ipynb",
   "provenance": [],
   "version": "0.3.2"
  },
  "kernelspec": {
   "display_name": "Python 3",
   "language": "python",
   "name": "python3"
  },
  "language_info": {
   "codemirror_mode": {
    "name": "ipython",
    "version": 3
   },
   "file_extension": ".py",
   "mimetype": "text/x-python",
   "name": "python",
   "nbconvert_exporter": "python",
   "pygments_lexer": "ipython3",
   "version": "3.6.1"
  }
 },
 "nbformat": 4,
 "nbformat_minor": 1
}
