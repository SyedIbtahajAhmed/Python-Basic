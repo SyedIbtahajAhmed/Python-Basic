{
 "cells": [
  {
   "cell_type": "markdown",
   "metadata": {},
   "source": [
    "# Computing Fundamentals Lab 2 Exercise "
   ]
  },
  {
   "cell_type": "markdown",
   "metadata": {},
   "source": [
    "### 1. Using print function, write a program that displays your name and birthday as separate strings."
   ]
  },
  {
   "cell_type": "code",
   "execution_count": 111,
   "metadata": {},
   "outputs": [
    {
     "name": "stdout",
     "output_type": "stream",
     "text": [
      "-------------------------------------------------------- \n",
      "NAME                 :   Syed Ibtahaj Ahmed Rizvi \n",
      "-------------------------------------------------------- \n",
      "BIRTHDAY (DD-MM-YY)  :   06-03-2000 (6th Of March, 2000) \n",
      "--------------------------------------------------------\n"
     ]
    }
   ],
   "source": [
    "print(\"--------------------------------------------------------\",\"\\nNAME                 :\",\"  Syed Ibtahaj Ahmed Rizvi\",\"\\n--------------------------------------------------------\",\"\\nBIRTHDAY (DD-MM-YY)  :\",\"  06-03-2000 (6th Of March, 2000)\",\"\\n--------------------------------------------------------\")"
   ]
  },
  {
   "cell_type": "markdown",
   "metadata": {},
   "source": [
    "### 2. Write a program to display the use of all 7 Arithmetic Operations "
   ]
  },
  {
   "cell_type": "code",
   "execution_count": 70,
   "metadata": {},
   "outputs": [
    {
     "name": "stdout",
     "output_type": "stream",
     "text": [
      "1. Addition:            4+4 = 8 \n",
      "\n",
      "2. Subtraction:         8-5 = 3 \n",
      "\n",
      "3. Multiplication:      4*4 = 16 \n",
      "\n",
      "4. Division:            16/4 = 4.0 \n",
      "\n",
      "5. Integar Division:    18//4 = 4 \n",
      "\n",
      "6. Modulus:             18%4 = 2 \n",
      "\n",
      "7. Exponential:         2^5 = 32\n"
     ]
    }
   ],
   "source": [
    "print(\"1. Addition:            4+4 =\",4+4,\"\\n\\n2. Subtraction:         8-5 =\",8-5,\"\\n\\n3. Multiplication:      4*4 =\",4*4,\"\\n\\n4. Division:            16/4 =\",16/4,\"\\n\\n5. Integar Division:    18//4 =\",18//4,\"\\n\\n6. Modulus:             18%4 =\",18%4,\"\\n\\n7. Exponential:         2^5 =\",2**5)"
   ]
  },
  {
   "cell_type": "markdown",
   "metadata": {},
   "source": [
    "### 3.\tA Mathematics teacher made a lesson plan for primary class students as follows:\n",
    "#### \tHe would teach addition and subtraction to grade 1 and 2 students.\n",
    "#### \tMultiplication and division to grade 3 and 4 students.\n",
    "####    Exponentials to grade 5 students\n",
    "#### Write a python code, that displays the classes in one line. In the next line, an example of arithmetic examples that the teacher can teach to the students of that class. Each example must be given in a new line.  For instance, your output may appear like this:\n",
    "\n",
    "#### CLASS 1:\n",
    "#### Addition: 2+5 = 7\n",
    "#### Subtraction: 8-2 = 6\n"
   ]
  },
  {
   "cell_type": "code",
   "execution_count": 71,
   "metadata": {},
   "outputs": [
    {
     "name": "stdout",
     "output_type": "stream",
     "text": [
      "CLASS 1 and 2:\n",
      " \n",
      "1) Addition: 2+5 = 7 \n",
      "2) Subtraction: 8-2 = 6 \n",
      "\n",
      "\n",
      "CLASS 3 and 4:\n",
      " \n",
      "1) Multiplication: 2*5 = 10 \n",
      "2) Division: 8/2 = 4.0 \n",
      "\n",
      "\n",
      "CLASS 5: \n",
      "\n",
      "1) Exponentials: 2^5 = 32\n"
     ]
    }
   ],
   "source": [
    "print(\"CLASS 1 and 2:\\n\",\"\\n1) Addition: 2+5 =\",2+5,\"\\n2) Subtraction: 8-2 =\",8-2,\"\\n\\n\\nCLASS 3 and 4:\\n\",\"\\n1) Multiplication: 2*5 =\",2*5,\"\\n2) Division: 8/2 =\",8/2,\"\\n\\n\\nCLASS 5:\",\"\\n\\n1) Exponentials: 2^5 =\",2**5)"
   ]
  },
  {
   "cell_type": "markdown",
   "metadata": {},
   "source": [
    "### 4.\tA Rectangular box has a height of 20 cm, length of 30 cm and breadth of 10 cm. Write a program that displays each of these dimensions in a separate line. Also display the total volume (L x B x H) of the rectangular box by making use of arithmetic expressions."
   ]
  },
  {
   "cell_type": "code",
   "execution_count": 1,
   "metadata": {},
   "outputs": [
    {
     "name": "stdout",
     "output_type": "stream",
     "text": [
      "A Rectangular box has a \n",
      "\n",
      "* Height  = 20cm \n",
      "* Length  = 30cm \n",
      "* Breadth = 10cm \n",
      "\n",
      "Total Volume: \n",
      "\n",
      "        Volume (V) = Length * Breadth * Height \n",
      "        Volume (V) = L * B * H \n",
      "\n",
      "    Putting values Of L, B, and H in above equation \n",
      "\n",
      "        Volume (V) = 30cm * 10cm * 30cm \n",
      "\n",
      "\n",
      "        Volume (V) = 9000 cm^3 \n",
      "                             Ans.\n"
     ]
    }
   ],
   "source": [
    "print(\"A Rectangular box has a\",\"\\n\\n* Height  = 20cm\",\"\\n* Length  = 30cm\",\"\\n* Breadth = 10cm\",\"\\n\\nTotal Volume:\",\"\\n\\n        Volume (V) = Length * Breadth * Height\",\"\\n        Volume (V) = L * B * H\",\"\\n\\n    Putting values Of L, B, and H in above equation\",\"\\n\\n        Volume (V) = 30cm * 10cm * 30cm\",\"\\n\\n\\n        Volume (V) =\",30*10*30,\"cm^3\",\"\\n                             Ans.\")"
   ]
  },
  {
   "cell_type": "markdown",
   "metadata": {},
   "source": [
    "### 5. Three resistors of values 5, 10 and 15 are connected in Series. Show the calculation and output total resistance through your Python Code.\n"
   ]
  },
  {
   "cell_type": "code",
   "execution_count": 52,
   "metadata": {},
   "outputs": [
    {
     "name": "stdout",
     "output_type": "stream",
     "text": [
      "Three Resistors Are Connected In Series \n",
      "Their Resistances Are: \n",
      "\n",
      "1. Resistance(R1) = 5 ohm \n",
      "2. Resistance(R2) = 10 ohm \n",
      "3. Resistance(R3) = 15 ohm \n",
      "\n",
      "We have to calculate the total resistance, \n",
      "\n",
      "        As we know that equivalent resistance when resisters are in series \n",
      "\n",
      "        R(eq) = R1 + R2 + R3 \n",
      "        Putting values of R1, R2, and R3 in above equation \n",
      "\n",
      "        R(eq) = 5 + 10 + 15 \n",
      "        R(eq) = 30 ohm \n",
      "                     Ans.\n"
     ]
    }
   ],
   "source": [
    "print(\"Three Resistors Are Connected In Series\",\"\\nTheir Resistances Are:\",\"\\n\\n1. Resistance(R1) = 5 ohm\",\"\\n2. Resistance(R2) = 10 ohm\",\"\\n3. Resistance(R3) = 15 ohm\",\"\\n\\nWe have to calculate the total resistance,\",\"\\n\\n        As we know that equivalent resistance when resisters are in series\",\"\\n\\n        R(eq) = R1 + R2 + R3\",\"\\n        Putting values of R1, R2, and R3 in above equation\",\"\\n\\n        R(eq) = 5 + 10 + 15\",\"\\n        R(eq) =\",5+10+15,\"ohm\",\"\\n                     Ans.\")"
   ]
  }
 ],
 "metadata": {
  "kernelspec": {
   "display_name": "Python 3",
   "language": "python",
   "name": "python3"
  },
  "language_info": {
   "codemirror_mode": {
    "name": "ipython",
    "version": 3
   },
   "file_extension": ".py",
   "mimetype": "text/x-python",
   "name": "python",
   "nbconvert_exporter": "python",
   "pygments_lexer": "ipython3",
   "version": "3.6.5"
  }
 },
 "nbformat": 4,
 "nbformat_minor": 2
}
