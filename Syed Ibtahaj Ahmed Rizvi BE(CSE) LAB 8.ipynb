{
 "cells": [
  {
   "cell_type": "markdown",
   "metadata": {},
   "source": [
    "### Lab 8 Exercise - Functions\n",
    "\n",
    "#### Question 01:\n",
    "Make use of Python Functions to make a calculator that performs the basic four arithmetic operations. The user should be able to select the operation and give input numeric values to the program."
   ]
  },
  {
   "cell_type": "code",
   "execution_count": null,
   "metadata": {},
   "outputs": [],
   "source": [
    "def opr():\n",
    "    \"Operations\"\n",
    "    print(\"1. Addition\",\"            2. Subtraction\")\n",
    "    print(\"3. Multiplication\",\"      4. Division\")\n",
    "    return()\n",
    "#------------------------\n",
    "def add(a,b):\n",
    "    \"Performs Addition\"\n",
    "    x = a+b\n",
    "    return(x)\n",
    "#------------------------\n",
    "def sub(a,b):\n",
    "    \"Performs Subtraction\"\n",
    "    x = a-b\n",
    "    return(x)\n",
    "#------------------------\n",
    "def mult(a,b):\n",
    "    \"Performs Multiplication\"\n",
    "    x = a*b\n",
    "    return(x)\n",
    "#------------------------\n",
    "def div(a,b):\n",
    "    \"Performs Division\"\n",
    "    x = a/b\n",
    "    return(x)\n",
    "#------------------------\n",
    "print(opr())\n",
    "q = str(input(\"Press Y Key To Continue or Press Q To Quit The Program\"))\n",
    "\n",
    "while(q==\"y\" or q==\"Y\"):\n",
    "    t = str(input(\"Enter The Operation You Want To Perform :\"))\n",
    "    num1 = float(input(\"Enter First Number :\"))\n",
    "    num2 = float(input(\"Enter Second Number :\"))\n",
    "    if(t==\"Addition\" or t==\"addition\" or t==\"add\" or t==\"Add\" or t==\"+\" or t==\"1\"):\n",
    "        print(\"Answer Is\")\n",
    "        print(add(num1,num2))\n",
    "        q = str(input('Press Y Key For Using Calculator Again or Press \"Q\" To Quit The Program'))\n",
    "    \n",
    "    if(t==\"Subtraction\" or t==\"subtraction\" or t==\"sub\" or t==\"Sub\" or t==\"-\" or t==\"2\"):\n",
    "        print(\"Answer Is\")\n",
    "        print(sub(num1,num2))\n",
    "        q = str(input('Press Y Key For Using Calculator Again or Press \"Q\" To Quit The Program'))\n",
    "\n",
    "    if(t==\"Multiplication\" or t==\"multiplication\" or t==\"mul\" or t==\"Mul\" or t==\"*\" or t==\"3\"):\n",
    "        print(\"Answer Is\")\n",
    "        print(mult(num1,num2))\n",
    "        q = str(input('Press Y Key For Using Calculator Again or Press \"Q\" To Quit The Program'))\n",
    "    \n",
    "    if(t==\"Division\" or t==\"division\" or t==\"div\" or t==\"Div\" or t==\"/\" or t==\"4\"):\n",
    "        print(\"Answer Is\")\n",
    "        print(div(num1,num2))\n",
    "        q = str(input('Press Y Key For Using Calculator Again or Press \"Q\" To Quit The Program'))\n",
    "    \n",
    "print(\"\\nThanks For Using The Calculator.\",\"\\n\\nGOOD BYE! HAVE A NICE DAY\")"
   ]
  },
  {
   "cell_type": "code",
   "execution_count": null,
   "metadata": {},
   "outputs": [],
   "source": [
    "# Test your function here:"
   ]
  },
  {
   "cell_type": "markdown",
   "metadata": {},
   "source": [
    "#### Question 02:\n",
    "Use functions to generate even, odd sequences. The function should be given starting and ending terms of each sequence."
   ]
  },
  {
   "cell_type": "code",
   "execution_count": null,
   "metadata": {},
   "outputs": [],
   "source": [
    "#================================\n",
    "#================================\n",
    "def even(start,stop):\n",
    "    \"Generates Even Sequence\"\n",
    "    while(start<=stop):\n",
    "        if(start%2==0):\n",
    "            print(start)\n",
    "            start+=2\n",
    "        else:\n",
    "            start+=1\n",
    "            print(start)\n",
    "            start+=2\n",
    "            \n",
    "    while(stop<=start):\n",
    "        if(start%2==0):\n",
    "            print(start)\n",
    "            start = start-2\n",
    "        else:\n",
    "            start = start-1\n",
    "            print(start)\n",
    "            start = start-2\n",
    "    return\n",
    "#=================================\n",
    "#=================================\n",
    "def odd(start,stop):\n",
    "    \"Generates Odd Sequence\"\n",
    "    while(start<=stop):\n",
    "        if(start%2!=0):\n",
    "            print(start)\n",
    "            start+=2\n",
    "        else:\n",
    "            start+=1\n",
    "            print(start)\n",
    "            start+=2\n",
    "    while(stop<=start):\n",
    "        if(start%2!=0):\n",
    "            print(start)\n",
    "            start = start-2\n",
    "        else:\n",
    "            start = start-1\n",
    "            print(start)\n",
    "            start = start-2\n",
    "    return\n",
    "#================================\n",
    "#================================\n",
    "i = str(input(\"Press Y Key To Continue or Press Q to Quit The Program :\"))\n",
    "while(i==\"y\" or i==\"Y\"):\n",
    "    op = str(input(\"What Do You Want To Generate Even Sequence Or Odd Sequence :\"))\n",
    "    x = int(input(\"Input The Starting Value :\"))\n",
    "    y = int(input(\"Input The Ending Value :\"))\n",
    "    if(op==\"even\" or op==\"Even\"):\n",
    "        print(even(x,y))\n",
    "        print(\"THANKS FOR USING!\")\n",
    "        i = str(input(\"Press Y Key To Again Enter Values or Press Q to Quit The Program :\"))\n",
    "    if(op==\"odd\" or op==\"Odd\"):\n",
    "        print(odd(x,y))\n",
    "        print(\"THANKS FOR USING!\")\n",
    "        i = str(input(\"Press Y Key To Again Enter Values or Press Q to Quit The Program :\"))\n",
    "print(\"THANKS FOR USING!\",\"\\nHAVE A NICE DAY\",\"\\nGOOD BYE!\")"
   ]
  },
  {
   "cell_type": "code",
   "execution_count": null,
   "metadata": {},
   "outputs": [],
   "source": [
    "# Test your function here:"
   ]
  },
  {
   "cell_type": "markdown",
   "metadata": {},
   "source": [
    "#### Question 03:\n",
    "Make a Python Function to Calculate the HCF of two numbers. (Bonus Question)"
   ]
  },
  {
   "cell_type": "code",
   "execution_count": null,
   "metadata": {},
   "outputs": [],
   "source": [
    "#========================\n",
    "#========================\n",
    "def gcd(a,b):\n",
    "    \"Calculates GCD Of Two Numbers\"\n",
    "    if(b==0):\n",
    "        return a\n",
    "    return gcd(b, a%b)\n",
    "#========================\n",
    "#========================\n",
    "def lcm(a,b):\n",
    "    \"Calculates LCM Of Two Numbers\"\n",
    "    y = (a*b)/gcd(a,b)\n",
    "    return(y)\n",
    "#========================\n",
    "#========================\n",
    "def hcf(a,b):\n",
    "    \"Calculates HCF Of Two Numbers\"\n",
    "    y = a*b/lcm(a,b)\n",
    "    return(y)\n",
    "#========================\n",
    "#========================\n",
    "def opr():\n",
    "    \"Operations\"\n",
    "    print(\"1. H.C.F(Highest Common Factor)\")\n",
    "    print(\"2. L.C.M(Least Common Multiple)\")\n",
    "    print(\"3. G.C.D(Greatest Common Divisor)\")\n",
    "#========================\n",
    "#========================\n",
    "print(opr())\n",
    "p = str(input(\"Press Y To Enter Values Of Two Numbers Or Press Q To Quit The Program\"))\n",
    "\n",
    "while(p==\"y\" or p==\"Y\"):\n",
    "    x = float(input(\"Enter First Number :\"))\n",
    "    y = float(input(\"Enter Second Number :\"))\n",
    "    print(\"\\n* Highest Common Factor (H.C.F) is      \",hcf(x,y))\n",
    "    print(\"\\n* Least Common Multiple (L.C.M) is      \",lcm(x,y))\n",
    "    print(\"\\n* Greatest Common Divisor (G.C.D) is    \",gcd(x,y))\n",
    "    p = str(input(\"Press Y To Enter Values Of Two Numbers Or Press Q To Quit The Program\"))\n",
    "print(\"THANKS FOR USING!\",\"\\nGOOD BYE\")"
   ]
  },
  {
   "cell_type": "code",
   "execution_count": null,
   "metadata": {},
   "outputs": [],
   "source": [
    "# Test your function here:"
   ]
  },
  {
   "cell_type": "markdown",
   "metadata": {},
   "source": [
    "#### Question 04: \n",
    "Make a Python Function that takes user name and says “hello” to the user."
   ]
  },
  {
   "cell_type": "code",
   "execution_count": null,
   "metadata": {},
   "outputs": [],
   "source": [
    "#['Write your function here']\n",
    "def usname():\n",
    "    \"Takes Username as input\"\n",
    "    y = str(input(\"Enter Your Username :\"))\n",
    "    return(y)\n",
    "\n",
    "print(\"Hello\",usname())"
   ]
  },
  {
   "cell_type": "code",
   "execution_count": null,
   "metadata": {},
   "outputs": [],
   "source": [
    "# Test your function here:"
   ]
  }
 ],
 "metadata": {
  "kernelspec": {
   "display_name": "Python 3",
   "language": "python",
   "name": "python3"
  },
  "language_info": {
   "codemirror_mode": {
    "name": "ipython",
    "version": 3
   },
   "file_extension": ".py",
   "mimetype": "text/x-python",
   "name": "python",
   "nbconvert_exporter": "python",
   "pygments_lexer": "ipython3",
   "version": "3.6.5"
  }
 },
 "nbformat": 4,
 "nbformat_minor": 2
}
