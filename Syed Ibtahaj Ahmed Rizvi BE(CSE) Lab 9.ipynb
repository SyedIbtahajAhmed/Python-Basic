{
 "cells": [
  {
   "cell_type": "markdown",
   "metadata": {},
   "source": [
    "#### Question 1: \n",
    "Write a python program that takes 5 student names as input and stores them in a list. \t\t\t\t\t\t\t\n"
   ]
  },
  {
   "cell_type": "code",
   "execution_count": 1,
   "metadata": {},
   "outputs": [
    {
     "name": "stdout",
     "output_type": "stream",
     "text": [
      "Enter Student Name :ibta\n",
      "Enter Student Name :ahsd\n",
      "Enter Student Name :ajdh\n",
      "Enter Student Name :afshf\n",
      "Enter Student Name :afhf\n",
      "['ibta', 'ahsd', 'ajdh', 'afshf', 'afhf']\n"
     ]
    }
   ],
   "source": [
    "stname = []\n",
    "for i in range(0,5):\n",
    "    name = str(input(\"Enter Student Name :\"))\n",
    "    stname.append(name)\n",
    "print(stname)"
   ]
  },
  {
   "cell_type": "markdown",
   "metadata": {},
   "source": [
    "#### Question 2: \n",
    "Suppose you are planning for a road trip with your friends in the winter season. Write a program that asks the user to enter the items to be taken on the trip.  At the end, the program should display the complete list"
   ]
  },
  {
   "cell_type": "code",
   "execution_count": 2,
   "metadata": {},
   "outputs": [
    {
     "name": "stdout",
     "output_type": "stream",
     "text": [
      "Press Any Key To Continue The Program And Press Q To Quit The Program :\n",
      "Enter Item You Want To Store In The List :bat\n",
      "Press Any Key To Again Enter Item And Press Q To Quit The Program :\n",
      "Enter Item You Want To Store In The List :ball\n",
      "Press Any Key To Again Enter Item And Press Q To Quit The Program :\n",
      "Enter Item You Want To Store In The List :bails\n",
      "Press Any Key To Again Enter Item And Press Q To Quit The Program :\n",
      "Enter Item You Want To Store In The List :stumps\n",
      "Press Any Key To Again Enter Item And Press Q To Quit The Program :q\n",
      "['bat', 'ball', 'bails', 'stumps']\n"
     ]
    }
   ],
   "source": [
    "items = []\n",
    "a = str(input(\"Press Any Key To Continue The Program And Press Q To Quit The Program :\"))\n",
    "while(a!=\"q\"):\n",
    "    item = str(input(\"Enter Item You Want To Store In The List :\"))\n",
    "    items.append(item)\n",
    "    a = str(input(\"Press Any Key To Again Enter Item And Press Q To Quit The Program :\"))\n",
    "print(items)"
   ]
  },
  {
   "cell_type": "markdown",
   "metadata": {},
   "source": [
    "#### Question 3: \n",
    "Write a Python code that displays the following:\n",
    "* List of Even numbers with the first 6 terms\n",
    "* List of Odd numbers with the first 6 terms\n",
    "* Combined list of the above mentioned even and odd numbers (use concatenation technique)\t\n",
    "Sorted list after combining"
   ]
  },
  {
   "cell_type": "code",
   "execution_count": 3,
   "metadata": {},
   "outputs": [
    {
     "name": "stdout",
     "output_type": "stream",
     "text": [
      "[0, 2, 4, 6, 8, 10]\n",
      "[1, 3, 5, 7, 9]\n",
      "[0, 2, 4, 6, 8, 10, 1, 3, 5, 7, 9]\n",
      "None\n"
     ]
    }
   ],
   "source": [
    "even = []\n",
    "odd = []\n",
    "a = 0\n",
    "b = 10\n",
    "c = 1\n",
    "d = 10\n",
    "while(a<=b):\n",
    "    if(a%2==0):\n",
    "        even.append(a)\n",
    "        a+=2\n",
    "while(c<=d):\n",
    "    if(c%2!=0):\n",
    "        odd.append(c)\n",
    "        c+=2\n",
    "        \n",
    "print(even)\n",
    "print(odd)\n",
    "sorted_list = even + odd\n",
    "print(sorted_list)\n",
    "print(sorted_list.sort())"
   ]
  },
  {
   "cell_type": "markdown",
   "metadata": {},
   "source": [
    "#### Question 4:\n",
    "Write a program that averages the marks (out of 50). Calculate the average marks for 3 students and store them in lists.\n",
    "Display the student name and their marks in the form of a bar graph(Use any symbol of your choice)."
   ]
  },
  {
   "cell_type": "code",
   "execution_count": 11,
   "metadata": {},
   "outputs": [
    {
     "name": "stdout",
     "output_type": "stream",
     "text": [
      "Enter Character :#\n",
      "Ibtahaj ##############################################\n",
      "Bilal #########################################\n",
      "Wasey ######################################\n"
     ]
    }
   ],
   "source": [
    "ibtmarks = [48,43,49]\n",
    "ibtavg = sum(ibtmarks)/len(ibtmarks)\n",
    "ibtavg = int(ibtavg)\n",
    "\n",
    "bilmarks = [45,49,31]\n",
    "bilavg = sum(bilmarks)/len(bilmarks)\n",
    "bilavg = int(bilavg)\n",
    "\n",
    "wasmarks = [45,21,50]\n",
    "wasavg = sum(wasmarks)/len(wasmarks)\n",
    "wasavg = int(wasavg)\n",
    "\n",
    "a = str(input(\"Enter Character :\"))\n",
    "avg = [ibtavg,bilavg,wasavg]\n",
    "stname = [\"Ibtahaj\",\"Bilal\",\"Wasey\"]\n",
    "for i in range(0,3):\n",
    "    print(stname[i],avg[i]*a)"
   ]
  }
 ],
 "metadata": {
  "kernelspec": {
   "display_name": "Python 3",
   "language": "python",
   "name": "python3"
  },
  "language_info": {
   "codemirror_mode": {
    "name": "ipython",
    "version": 3
   },
   "file_extension": ".py",
   "mimetype": "text/x-python",
   "name": "python",
   "nbconvert_exporter": "python",
   "pygments_lexer": "ipython3",
   "version": "3.6.5"
  }
 },
 "nbformat": 4,
 "nbformat_minor": 2
}
