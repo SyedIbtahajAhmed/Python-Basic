{
 "cells": [
  {
   "cell_type": "markdown",
   "metadata": {},
   "source": [
    "## Exercise\n",
    "\n"
   ]
  },
  {
   "cell_type": "markdown",
   "metadata": {},
   "source": [
    "##### Question 1: \n",
    "\n",
    "The formula for finding Area of a Circle is given as: \n",
    "                                $A = \\pi r^2$ , where r is the radius of the circle.\n",
    "\n",
    "The following program is supposed take radius from the user and display the Area in the output. However, there seems to be an error in the program. Modify the program so that it can calculate the area for any given radius value. Add comments to elaborate the changes."
   ]
  },
  {
   "cell_type": "code",
   "execution_count": null,
   "metadata": {
    "collapsed": true
   },
   "outputs": [],
   "source": [
    "r = input(Enter Radius)\n",
    "A = pi*r**2\n",
    "print(A)"
   ]
  },
  {
   "cell_type": "code",
   "execution_count": null,
   "metadata": {},
   "outputs": [],
   "source": [
    "#the type of input is not defined\n",
    "#the input taken is not in the \"\"(commas)\n",
    "#the Pi is a constant value\n",
    "#Corrected Code\n",
    "r = float(input(\"Enter Radius\"))\n",
    "A = 3.142*r**2\n",
    "print(A)"
   ]
  },
  {
   "cell_type": "markdown",
   "metadata": {},
   "source": [
    "##### Question 2\n",
    "\n",
    "In the following code, the while loop should keep running until the user keeps pressing 0. Make necessary changes in the code to achieve the objective."
   ]
  },
  {
   "cell_type": "code",
   "execution_count": null,
   "metadata": {
    "collapsed": true
   },
   "outputs": [],
   "source": [
    "a = input('Enter 1 or 0')\n",
    "while (a == 0)\n",
    "    print('You pressed 0')\n",
    "    a = input(\"Enter '0' to continue the loop OR '1' to exit loop\")\n",
    "print('You have exited the loop')"
   ]
  },
  {
   "cell_type": "code",
   "execution_count": null,
   "metadata": {},
   "outputs": [],
   "source": [
    "#the type of input is not defined in both conditions\n",
    "#semi-colon is not in the end of while statement\n",
    "#Corrected Code\n",
    "a = int(input('Enter 1 or 0'))\n",
    "while (a == 0):\n",
    "    print('You pressed 0')\n",
    "    a = int(input(\"Enter '0' to continue the loop OR '1' to exit loop\"))\n",
    "print('You have exited the loop')"
   ]
  },
  {
   "cell_type": "markdown",
   "metadata": {},
   "source": [
    "##### Question 3\n",
    "\n",
    "The total electricity cost is calculated useing the following formula: $C = x + u.p$\n",
    "\n",
    "    where, C = Total cost, x = linetax, u = Consumed Units, p = Per unit Cost\n",
    "\n",
    "the following code does not calculate and display the total cost correctly. Identify and remove the mistake. Assume the following values. Also, modify the program so that the user can input the values to calculate the total cost.\n",
    "\n",
    "\n"
   ]
  },
  {
   "cell_type": "code",
   "execution_count": null,
   "metadata": {
    "collapsed": true
   },
   "outputs": [],
   "source": [
    "p = 12.51 #per unit cost in Rs\n",
    "u = 350 # Total units consumed\n",
    "x = 250 # Line tax in Rs\n",
    "\n",
    "C = x*u*p\n",
    "print(\"The total cost for the month is Rs. \", p)\n",
    "\n"
   ]
  },
  {
   "cell_type": "code",
   "execution_count": null,
   "metadata": {},
   "outputs": [],
   "source": [
    "#In variable C the formula is not corrected\n",
    "#the program should take all the values as input from the user\n",
    "#in print statement the variable p is written instead of C \n",
    "#Corrected Code\n",
    "\n",
    "p = float(input(\"Enter per unit cost in Rs :\")) #per unit cost in Rs\n",
    "u = float(input(\"Total units consumed :\")) # Total units consumed\n",
    "x = float(input(\"Line tax in Rs :\")) # Line tax in Rs\n",
    "\n",
    "C = x+u*p\n",
    "print(\"The total cost for the month is Rs. \", C)\n"
   ]
  },
  {
   "cell_type": "markdown",
   "metadata": {},
   "source": [
    "##### Question 4\n",
    "\n",
    "Modify the following code to flip the shape horizontally. Also, modify the code so that the user can generate a shape of any size."
   ]
  },
  {
   "cell_type": "code",
   "execution_count": null,
   "metadata": {},
   "outputs": [],
   "source": [
    "a = 1\n",
    "while(a<=10):\n",
    "    print(\"x\"*a)\n",
    "    a+=1"
   ]
  },
  {
   "cell_type": "code",
   "execution_count": null,
   "metadata": {},
   "outputs": [],
   "source": [
    "a = 1\n",
    "while(a >= 10):\n",
    "    print(\"x\"*a)\n",
    "    a+=1"
   ]
  },
  {
   "cell_type": "markdown",
   "metadata": {},
   "source": [
    "##### Question 5\n",
    "The volume of a Cylinder is given as $V = \\pi r^2 h$\n",
    "\n",
    "Although the code gives accurate results, there seems to be a certain problem in this code. Identify and write down the problem in the following text box. Also, modify the code so that it can calculate Volume for any positive values of radius and height. "
   ]
  },
  {
   "cell_type": "markdown",
   "metadata": {},
   "source": [
    "(Write your explanation in this box. Double click to edit!)\n"
   ]
  },
  {
   "cell_type": "code",
   "execution_count": null,
   "metadata": {
    "collapsed": true
   },
   "outputs": [],
   "source": [
    "r = int(input('Enter Cylinder Base radius: '))\n",
    "h = int(input('Enter Cylinder Height: '))\n",
    "V = 3.14 * (r**2) * h\n",
    "print('The Volume of the Cylinder is: ',V)"
   ]
  },
  {
   "cell_type": "code",
   "execution_count": null,
   "metadata": {},
   "outputs": [],
   "source": [
    "#the type of radius and hieght is taken as integar instead of float\n",
    "#the unit of radius and height is not defined in the input\n",
    "#condition for positive values was not defined\n",
    "r = float(input('Enter Cylinder Base radius in meters: '))\n",
    "h = float(input('Enter Cylinder Height in meters: '))\n",
    "V = 3.14 * (r**2) * h\n",
    "if (r<0):\n",
    "    print(\"Input Value is negative\")\n",
    "elif(h<0):\n",
    "    print(\"Input Value is negative\")\n",
    "else:\n",
    "    print('The Volume of the Cylinder is: ',V,\"cubic meter\")"
   ]
  }
 ],
 "metadata": {
  "kernelspec": {
   "display_name": "Python 3",
   "language": "python",
   "name": "python3"
  },
  "language_info": {
   "codemirror_mode": {
    "name": "ipython",
    "version": 3
   },
   "file_extension": ".py",
   "mimetype": "text/x-python",
   "name": "python",
   "nbconvert_exporter": "python",
   "pygments_lexer": "ipython3",
   "version": "3.6.1"
  }
 },
 "nbformat": 4,
 "nbformat_minor": 2
}
