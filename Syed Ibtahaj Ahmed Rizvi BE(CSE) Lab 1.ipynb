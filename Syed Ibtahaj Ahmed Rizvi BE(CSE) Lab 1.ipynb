{
 "cells": [
  {
   "cell_type": "markdown",
   "metadata": {
    "colab_type": "text",
    "id": "_uBDiKQrf8JU"
   },
   "source": [
    "# Computing Fundamentals Lab 1 - Exercise"
   ]
  },
  {
   "cell_type": "markdown",
   "metadata": {
    "colab_type": "text",
    "id": "EnlzCVz6gEae"
   },
   "source": [
    "### 1. \tWrite a Program that displays your Name and Student Id."
   ]
  },
  {
   "cell_type": "code",
   "execution_count": 6,
   "metadata": {
    "colab": {},
    "colab_type": "code",
    "id": "65VhIUv1f7Vt"
   },
   "outputs": [
    {
     "name": "stdout",
     "output_type": "stream",
     "text": [
      "Syed Ibtahaj Ahmed Rizvi\n"
     ]
    }
   ],
   "source": [
    "print(\"Syed Ibtahaj Ahmed Rizvi\")"
   ]
  },
  {
   "cell_type": "markdown",
   "metadata": {
    "colab_type": "text",
    "id": "p3b2aoK6gL9q"
   },
   "source": [
    "### 2.\tGenerate the following output in Python:\n",
    "\n",
    "   “Welcome to Mohammad Ali Jinnah University”\n"
   ]
  },
  {
   "cell_type": "code",
   "execution_count": 10,
   "metadata": {
    "colab": {},
    "colab_type": "code",
    "id": "9HV8xTM2gbY_"
   },
   "outputs": [
    {
     "name": "stdout",
     "output_type": "stream",
     "text": [
      "\"Welcome to Mohammad Ali Jinnah University\"\n"
     ]
    }
   ],
   "source": [
    "print('\"Welcome to Mohammad Ali Jinnah University\"')"
   ]
  },
  {
   "cell_type": "markdown",
   "metadata": {
    "colab_type": "text",
    "id": "_iIdjEjUgoRn"
   },
   "source": [
    "### 3. Using a single statement, print the output given on the screen:\n",
    "\n",
    "\n",
    "\n",
    "\n",
    "\n",
    "\n"
   ]
  },
  {
   "cell_type": "code",
   "execution_count": 1,
   "metadata": {
    "colab": {},
    "colab_type": "code",
    "id": "s3QKC-RGjsdg"
   },
   "outputs": [
    {
     "name": "stdout",
     "output_type": "stream",
     "text": [
      "||=||=||=||=|| \n",
      "=||=||=||=||= \n",
      "||=||=||=||=|| \n",
      "=||=||=||=||=\n"
     ]
    }
   ],
   "source": [
    "print(\"||=||=||=||=|| \\n=||=||=||=||= \\n||=||=||=||=|| \\n=||=||=||=||=\")"
   ]
  },
  {
   "cell_type": "markdown",
   "metadata": {
    "colab_type": "text",
    "id": "NPxluAIviwD7"
   },
   "source": [
    "### 4. Generate a triangular pattern by using print and new line function.\n"
   ]
  },
  {
   "cell_type": "code",
   "execution_count": 5,
   "metadata": {
    "colab": {},
    "colab_type": "code",
    "id": "2DDH7AWfi06B"
   },
   "outputs": [
    {
     "name": "stdout",
     "output_type": "stream",
     "text": [
      "|\\ \n",
      "| \\ \n",
      "|  \\ \n",
      "|   \\ \n",
      "-----\n"
     ]
    }
   ],
   "source": [
    "print(\"|\\ \\n| \\ \\n|  \\ \\n|   \\ \\n-----\")"
   ]
  }
 ],
 "metadata": {
  "colab": {
   "collapsed_sections": [],
   "name": "Computing Fundamentals Lab 1.ipynb",
   "provenance": [],
   "version": "0.3.2"
  },
  "kernelspec": {
   "display_name": "Python 3",
   "language": "python",
   "name": "python3"
  },
  "language_info": {
   "codemirror_mode": {
    "name": "ipython",
    "version": 3
   },
   "file_extension": ".py",
   "mimetype": "text/x-python",
   "name": "python",
   "nbconvert_exporter": "python",
   "pygments_lexer": "ipython3",
   "version": "3.6.5"
  }
 },
 "nbformat": 4,
 "nbformat_minor": 1
}
